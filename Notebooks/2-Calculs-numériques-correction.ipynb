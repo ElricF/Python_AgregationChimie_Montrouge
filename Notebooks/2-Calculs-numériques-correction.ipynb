{
 "cells": [
  {
   "cell_type": "markdown",
   "metadata": {},
   "source": [
    "# Calculs numériques avec Numpy"
   ]
  },
  {
   "cell_type": "markdown",
   "metadata": {},
   "source": [
    "Le module par exellence est NumPy. Permet de faire énoooormément de choses !"
   ]
  },
  {
   "cell_type": "markdown",
   "metadata": {},
   "source": [
    "### Vecteurs NumPy"
   ]
  },
  {
   "cell_type": "code",
   "execution_count": 1,
   "metadata": {},
   "outputs": [],
   "source": [
    "import numpy as np"
   ]
  },
  {
   "cell_type": "markdown",
   "metadata": {},
   "source": [
    "Le type qu'on utilise le plus avec NumPy : les vecteurs."
   ]
  },
  {
   "cell_type": "code",
   "execution_count": 2,
   "metadata": {},
   "outputs": [
    {
     "data": {
      "text/plain": [
       "numpy.ndarray"
      ]
     },
     "execution_count": 2,
     "metadata": {},
     "output_type": "execute_result"
    }
   ],
   "source": [
    "a = np.array([4,23,12])\n",
    "type(a)"
   ]
  },
  {
   "cell_type": "markdown",
   "metadata": {},
   "source": [
    "Ils s'utilisent de la même façon que les listes."
   ]
  },
  {
   "cell_type": "code",
   "execution_count": 3,
   "metadata": {},
   "outputs": [
    {
     "data": {
      "text/plain": [
       "72"
      ]
     },
     "execution_count": 3,
     "metadata": {},
     "output_type": "execute_result"
    }
   ],
   "source": [
    "a[0] = 72\n",
    "a[0]"
   ]
  },
  {
   "cell_type": "code",
   "execution_count": 4,
   "metadata": {},
   "outputs": [
    {
     "data": {
      "text/plain": [
       "(3,)"
      ]
     },
     "execution_count": 4,
     "metadata": {},
     "output_type": "execute_result"
    }
   ],
   "source": [
    "a.shape"
   ]
  },
  {
   "cell_type": "markdown",
   "metadata": {},
   "source": [
    "*Notez la syntaxe particulière : on s'écrit pas shape(a) comme si on appliquait une fonction shape. Cette syntaxe sert à utiliser une propriété d'un objet python. Comme si on écrivait : pomme.couleur , enfant.age , etoile.temperature*"
   ]
  },
  {
   "cell_type": "markdown",
   "metadata": {},
   "source": [
    "Quelques façons extrèmement utiles de créer de façon rapide des vecteurs de taille donnée N."
   ]
  },
  {
   "cell_type": "code",
   "execution_count": 5,
   "metadata": {},
   "outputs": [
    {
     "data": {
      "text/plain": [
       "array([0.        , 0.22222222, 0.44444444, 0.66666667, 0.88888889,\n",
       "       1.11111111, 1.33333333, 1.55555556, 1.77777778, 2.        ])"
      ]
     },
     "execution_count": 5,
     "metadata": {},
     "output_type": "execute_result"
    }
   ],
   "source": [
    "N=10\n",
    "c=np.linspace(0,2,N)\n",
    "c"
   ]
  },
  {
   "cell_type": "code",
   "execution_count": 6,
   "metadata": {},
   "outputs": [
    {
     "data": {
      "text/plain": [
       "array([10, 11, 12, 13, 14, 15, 16, 17, 18, 19, 20, 21, 22, 23, 24, 25, 26,\n",
       "       27, 28, 29, 30, 31, 32, 33, 34, 35, 36, 37, 38, 39, 40, 41])"
      ]
     },
     "execution_count": 6,
     "metadata": {},
     "output_type": "execute_result"
    }
   ],
   "source": [
    "b=np.arange(10,42)\n",
    "b"
   ]
  },
  {
   "cell_type": "code",
   "execution_count": 7,
   "metadata": {},
   "outputs": [
    {
     "data": {
      "text/plain": [
       "array([1., 1., 1., 1., 1., 1., 1., 1., 1., 1.])"
      ]
     },
     "execution_count": 7,
     "metadata": {},
     "output_type": "execute_result"
    }
   ],
   "source": [
    "d = np.ones(N)\n",
    "d"
   ]
  },
  {
   "cell_type": "code",
   "execution_count": 8,
   "metadata": {},
   "outputs": [
    {
     "data": {
      "text/plain": [
       "array([[0., 0.],\n",
       "       [0., 0.],\n",
       "       [0., 0.],\n",
       "       [0., 0.],\n",
       "       [0., 0.],\n",
       "       [0., 0.],\n",
       "       [0., 0.],\n",
       "       [0., 0.],\n",
       "       [0., 0.],\n",
       "       [0., 0.]])"
      ]
     },
     "execution_count": 8,
     "metadata": {},
     "output_type": "execute_result"
    }
   ],
   "source": [
    "e = np.zeros((N,2))\n",
    "e"
   ]
  },
  {
   "cell_type": "markdown",
   "metadata": {},
   "source": [
    "**Exercice : Écrire une fonction qui prend en argument un vecteur X, et renvoie un vecteur Y de même taille, dont le ième élément est le carré du ième élément du tableau X.**"
   ]
  },
  {
   "cell_type": "code",
   "execution_count": 9,
   "metadata": {},
   "outputs": [],
   "source": [
    "def mettre_au_carre(x):\n",
    "    N = len(x)\n",
    "    carres = np.zeros(N)\n",
    "    for i in range(N):\n",
    "        carres[i] = x[i]**2\n",
    "    return carres"
   ]
  },
  {
   "cell_type": "code",
   "execution_count": 10,
   "metadata": {},
   "outputs": [
    {
     "data": {
      "text/plain": [
       "array([ 0.,  1.,  4.,  9., 16., 25., 36., 49., 64., 81.])"
      ]
     },
     "execution_count": 10,
     "metadata": {},
     "output_type": "execute_result"
    }
   ],
   "source": [
    "a = np.arange(10)\n",
    "mettre_au_carre(a)"
   ]
  },
  {
   "cell_type": "markdown",
   "metadata": {},
   "source": [
    "C'était l'occasion de revoir les boucles for.\n",
    "\n",
    "Cette façon d'opérer sur les vecteurs est \"naturelle\" : pour agir sur chaque élément du vecteur, on fait une boucle for. Cependant, elle est à bannir pour deux raisons :\n",
    "* Elle est très lente, et si la taille des vecteurs dépasse par exemple N=10000, le script devient très long à executer.\n",
    "* Il existe une méthode beaucoup plus rapide encodée exprès dans NumPy"
   ]
  },
  {
   "cell_type": "code",
   "execution_count": 11,
   "metadata": {},
   "outputs": [
    {
     "data": {
      "text/plain": [
       "array([ 0,  1,  4,  9, 16, 25, 36, 49, 64, 81])"
      ]
     },
     "execution_count": 11,
     "metadata": {},
     "output_type": "execute_result"
    }
   ],
   "source": [
    "N = 10\n",
    "b=np.arange(N)\n",
    "\n",
    "### Version beaucoup plus simple et plus rapide !\n",
    "d=b**2\n",
    "d"
   ]
  },
  {
   "cell_type": "markdown",
   "metadata": {},
   "source": [
    "**Pour faire des opérations sur des vecteurs, on fait comme si chaque vecteur était un unique élément.** \n",
    "\n",
    "Numpy a redéfinit toutes les fonctions usuelles (+, -, cos, exp, ^2, etc.) pour que lorsqu'on les applique sur un vecteur, elles s'appliquent en fait élément par élément."
   ]
  },
  {
   "cell_type": "code",
   "execution_count": 14,
   "metadata": {},
   "outputs": [],
   "source": [
    "e = c+1\n",
    "f = c*d\n",
    "g = np.cos(b)"
   ]
  },
  {
   "cell_type": "markdown",
   "metadata": {},
   "source": [
    "## Matrices NumPy"
   ]
  },
  {
   "cell_type": "markdown",
   "metadata": {},
   "source": [
    "On peut créer des vecteurs à plusieurs dimensions (des matrices)"
   ]
  },
  {
   "cell_type": "code",
   "execution_count": 15,
   "metadata": {},
   "outputs": [
    {
     "data": {
      "text/plain": [
       "array([[2., 2.],\n",
       "       [2., 2.],\n",
       "       [2., 2.]])"
      ]
     },
     "execution_count": 15,
     "metadata": {},
     "output_type": "execute_result"
    }
   ],
   "source": [
    "a=2*np.ones((3,2))\n",
    "a"
   ]
  },
  {
   "cell_type": "code",
   "execution_count": 16,
   "metadata": {},
   "outputs": [
    {
     "data": {
      "text/plain": [
       "array([[1, 9],\n",
       "       [2, 3]])"
      ]
     },
     "execution_count": 16,
     "metadata": {},
     "output_type": "execute_result"
    }
   ],
   "source": [
    "b=np.array([[1,9],[2,3]])\n",
    "b"
   ]
  },
  {
   "cell_type": "code",
   "execution_count": 17,
   "metadata": {},
   "outputs": [
    {
     "ename": "ValueError",
     "evalue": "operands could not be broadcast together with shapes (3,2) (2,2) ",
     "output_type": "error",
     "traceback": [
      "\u001b[0;31m---------------------------------------------------------------------------\u001b[0m",
      "\u001b[0;31mValueError\u001b[0m                                Traceback (most recent call last)",
      "\u001b[0;32m<ipython-input-17-8ce765dcfa30>\u001b[0m in \u001b[0;36m<module>\u001b[0;34m\u001b[0m\n\u001b[0;32m----> 1\u001b[0;31m \u001b[0ma\u001b[0m\u001b[0;34m*\u001b[0m\u001b[0mb\u001b[0m\u001b[0;34m\u001b[0m\u001b[0;34m\u001b[0m\u001b[0m\n\u001b[0m",
      "\u001b[0;31mValueError\u001b[0m: operands could not be broadcast together with shapes (3,2) (2,2) "
     ]
    }
   ],
   "source": [
    "a*b"
   ]
  },
  {
   "cell_type": "code",
   "execution_count": 18,
   "metadata": {},
   "outputs": [
    {
     "data": {
      "text/plain": [
       "array([[ 6., 24.],\n",
       "       [ 6., 24.],\n",
       "       [ 6., 24.]])"
      ]
     },
     "execution_count": 18,
     "metadata": {},
     "output_type": "execute_result"
    }
   ],
   "source": [
    "np.dot(a,b)"
   ]
  },
  {
   "cell_type": "markdown",
   "metadata": {},
   "source": [
    "Et faire de l'algèbre linéaire sur des matrices avec le module **linalg**\n",
    "\n",
    "*inv* permet d'inverser les matrices, *eig* de trouver ses vecteurs et valeurs propres. "
   ]
  },
  {
   "cell_type": "code",
   "execution_count": 19,
   "metadata": {},
   "outputs": [
    {
     "data": {
      "text/plain": [
       "(array([-2.35889894,  6.35889894]),\n",
       " array([[-0.93687907, -0.85921919],\n",
       "        [ 0.34965357, -0.51160765]]))"
      ]
     },
     "execution_count": 19,
     "metadata": {},
     "output_type": "execute_result"
    }
   ],
   "source": [
    "np.linalg.eig(b)"
   ]
  },
  {
   "cell_type": "code",
   "execution_count": 20,
   "metadata": {},
   "outputs": [
    {
     "data": {
      "text/plain": [
       "array([[-0.2       ,  0.6       ],\n",
       "       [ 0.13333333, -0.06666667]])"
      ]
     },
     "execution_count": 20,
     "metadata": {},
     "output_type": "execute_result"
    }
   ],
   "source": [
    "np.linalg.inv(b)"
   ]
  },
  {
   "cell_type": "code",
   "execution_count": null,
   "metadata": {},
   "outputs": [],
   "source": [
    "b = np.ones(5)\n",
    "a = np.array([[1,2,3,4,0.5],\n",
    "              [0.9,0.8,7,6,5],\n",
    "              [4,5,6,7,8],\n",
    "              [8,0.6,9,5,2],\n",
    "              [7,3,1,0,0.8]])"
   ]
  },
  {
   "cell_type": "markdown",
   "metadata": {},
   "source": [
    "Résoudre $AX = B$ avec `np.linalg.solve`"
   ]
  },
  {
   "cell_type": "code",
   "execution_count": null,
   "metadata": {},
   "outputs": [],
   "source": [
    "sol=np.linalg.solve(a,b) \n",
    "np.linalg.inv(a)"
   ]
  },
  {
   "cell_type": "markdown",
   "metadata": {},
   "source": [
    "## Exercice\n",
    "\n",
    "Vérifez cette solution"
   ]
  },
  {
   "cell_type": "code",
   "execution_count": null,
   "metadata": {},
   "outputs": [],
   "source": [
    "np.dot(a,sol)"
   ]
  },
  {
   "cell_type": "markdown",
   "metadata": {},
   "source": [
    "### Exercice \n",
    "\n",
    "**Mettre sous forme d'un système puis le résoudre le problème suivant.**\n",
    "\n",
    "*Une mère et sa fille ont à eux deux 36 ans. Sachant que la mère a 30 ans de plus que la fille, quels âges ont-elles ?*"
   ]
  },
  {
   "cell_type": "code",
   "execution_count": 9,
   "metadata": {},
   "outputs": [
    {
     "name": "stdout",
     "output_type": "stream",
     "text": [
      "Age mère : 33 ans, Age fille : 3 ans\n"
     ]
    }
   ],
   "source": [
    "import numpy as np\n",
    "B = np.array([36,30])\n",
    "A = np.array([[1,1],[1,-1]])\n",
    "sol = np.linalg.solve(A,B) \n",
    "\n",
    "print(f'Age mère : {int(sol[0])} ans, Age fille : {int(sol[1])} ans')"
   ]
  },
  {
   "cell_type": "markdown",
   "metadata": {},
   "source": [
    "Autre solution avec la fonction fsolve de scipy"
   ]
  },
  {
   "cell_type": "code",
   "execution_count": 2,
   "metadata": {},
   "outputs": [
    {
     "data": {
      "text/plain": [
       "array([33.,  3.])"
      ]
     },
     "execution_count": 2,
     "metadata": {},
     "output_type": "execute_result"
    }
   ],
   "source": [
    "from scipy.optimize import fsolve\n",
    "\n",
    "def syst(var): \n",
    "    '''\n",
    "    Fonction qui prend en argument les variables du problèmes, et renvoie les équations vérifiées par celles-ci\n",
    "    '''\n",
    "    mere,fille = var[0], var[1]\n",
    "    eq1 = mere + fille - 36\n",
    "    eq2 = mere - fille - 30\n",
    "    res = [eq1, eq2]\n",
    "    return res\n",
    "\n",
    "sol_ini = [0, 0]\n",
    "\n",
    "fsolve(syst, sol_ini)"
   ]
  },
  {
   "cell_type": "markdown",
   "metadata": {},
   "source": [
    "### Exercice\n",
    "**Écrire une fonction qui prend en argument un entier n, et renvoie une matrice de taille n x n avec dans chaque cellule le produit des numéros de sa ligne et sa colonne**"
   ]
  },
  {
   "cell_type": "code",
   "execution_count": 21,
   "metadata": {},
   "outputs": [],
   "source": [
    "def f(n):\n",
    "    m = np.zeros((n,n))\n",
    "    for i in range(n): # permet de traiter chacune des lignes\n",
    "        for j in range(n): # dans chaque ligne, on traite une à une chaque colonne\n",
    "            m[i,j]=(i+1)*(j+1)\n",
    "    return m"
   ]
  },
  {
   "cell_type": "code",
   "execution_count": 22,
   "metadata": {},
   "outputs": [
    {
     "data": {
      "text/plain": [
       "array([[1., 2., 3.],\n",
       "       [2., 4., 6.],\n",
       "       [3., 6., 9.]])"
      ]
     },
     "execution_count": 22,
     "metadata": {},
     "output_type": "execute_result"
    }
   ],
   "source": [
    "f(3)"
   ]
  },
  {
   "cell_type": "markdown",
   "metadata": {},
   "source": [
    "### Exercice\n",
    "**Écrire une fonction Hukel_lin(n,alpha,beta) qui renvoie les niveaux d'énergie calculés dans l'approximation de Huckel d'une molécule linéaire conjuguée.**\n",
    "\n",
    "**De même Hukel_cycle(n,alpha,beta) pour les cycles conjugués**"
   ]
  },
  {
   "cell_type": "code",
   "execution_count": 23,
   "metadata": {},
   "outputs": [
    {
     "data": {
      "text/plain": [
       "(array([[0., 1., 0., 0.],\n",
       "        [1., 0., 1., 0.],\n",
       "        [0., 1., 0., 1.],\n",
       "        [0., 0., 1., 0.]]),\n",
       " array([-1.61803399, -0.61803399,  0.61803399,  1.61803399]))"
      ]
     },
     "execution_count": 23,
     "metadata": {},
     "output_type": "execute_result"
    }
   ],
   "source": [
    "def Hukel_lin(n,alpha,beta):\n",
    "    m = np.zeros((n,n))\n",
    "    for i in range(n):\n",
    "        for j in range(n):\n",
    "            if (i==j):\n",
    "                m[i,j]=alpha\n",
    "            elif (i==j+1 or i==j-1):\n",
    "                m[i,j]=beta\n",
    "    return m,np.sort(np.linalg.eig(m)[0])\n",
    "\n",
    "Hukel_lin(4,0,1)"
   ]
  },
  {
   "cell_type": "code",
   "execution_count": 24,
   "metadata": {},
   "outputs": [
    {
     "data": {
      "text/plain": [
       "(array([[0., 1., 0., 1.],\n",
       "        [1., 0., 1., 0.],\n",
       "        [0., 1., 0., 1.],\n",
       "        [1., 0., 1., 0.]]),\n",
       " array([-2.00000000e+00,  0.00000000e+00,  6.59737022e-17,  2.00000000e+00]))"
      ]
     },
     "execution_count": 24,
     "metadata": {},
     "output_type": "execute_result"
    }
   ],
   "source": [
    "def Hukel_cycle(n,alpha,beta):\n",
    "    m = np.zeros((n,n))\n",
    "    for i in range(n):\n",
    "        for j in range(n):\n",
    "            if (i==j):\n",
    "                m[i,j]=alpha\n",
    "            elif (i==j+1 or i==j-1):\n",
    "                m[i,j]=beta\n",
    "    m[0,n-1]=beta\n",
    "    m[n-1,0]=beta\n",
    "    return m,np.sort(np.linalg.eig(m)[0])\n",
    "\n",
    "Hukel_cycle(4,0,1)"
   ]
  },
  {
   "cell_type": "markdown",
   "metadata": {},
   "source": [
    "## Tracé simple d'un graphe"
   ]
  },
  {
   "cell_type": "markdown",
   "metadata": {},
   "source": [
    "* On utilise la bibliothèque matplotlib. Comme matplotlib et numpy sont très utilisés en calcul numériques, ils sont parfois regroupés dans un appel de **pylab**.\n",
    "* Commandes pour tracer des graphes : **plot**, **semilogx** ou **loglog** qui prennent en entrée 2 tableaux de même taille."
   ]
  },
  {
   "cell_type": "code",
   "execution_count": 25,
   "metadata": {},
   "outputs": [
    {
     "data": {
      "image/png": "[encoded data removed]",
      "text/plain": [
       "<Figure size 432x288 with 1 Axes>"
      ]
     },
     "metadata": {
      "needs_background": "light"
     },
     "output_type": "display_data"
    }
   ],
   "source": [
    "import matplotlib.pyplot as plt\n",
    "\n",
    "x=np.linspace(0,1,100)\n",
    "y=x*x\n",
    "\n",
    "plt.plot(x,y, '+k',label='Points')\n",
    "plt.xlabel('x')\n",
    "plt.ylabel('$y=x^2$')\n",
    "plt.title('Tracé de la fonction carré')\n",
    "plt.grid()\n",
    "plt.legend()\n",
    "plt.show()"
   ]
  },
  {
   "cell_type": "markdown",
   "metadata": {},
   "source": [
    "Il existe une myriade d'options pour personaliser les graphes. Les plus fréquentes ont des raccourcis, et s'utilisent comme ici entre ' '.\n",
    "\n",
    "Notez que Python comprend nativement le langage LaTeX."
   ]
  },
  {
   "cell_type": "markdown",
   "metadata": {},
   "source": [
    "### Exercice\n",
    "**Tracer le graphe de la réponse à un échelon de tension d'un circuit RLC**"
   ]
  },
  {
   "cell_type": "code",
   "execution_count": 90,
   "metadata": {},
   "outputs": [
    {
     "data": {
      "text/plain": [
       "[<matplotlib.lines.Line2D at 0x7f2504508d00>]"
      ]
     },
     "execution_count": 90,
     "metadata": {},
     "output_type": "execute_result"
    },
    {
     "data": {
      "image/png": "[encoded data removed]",
      "text/plain": [
       "<Figure size 432x288 with 1 Axes>"
      ]
     },
     "metadata": {
      "needs_background": "light"
     },
     "output_type": "display_data"
    }
   ],
   "source": [
    "import numpy as np\n",
    "t=np.linspace(0,1e-2,200)\n",
    "echelon = (np.sign(t)+1)/2\n",
    "\n",
    "R=10 #(ohm)\n",
    "L= 10*1e-3 #(Henri)\n",
    "C= 1*1e-6 #(Farrad)\n",
    "\n",
    "w_0 = np.sqrt(1/(L*C))\n",
    "Q = (1/R)*np.sqrt(L/C)\n",
    "\n",
    "\n",
    "rlc = np.exp(-(w_0/(2*Q))*t)*(np.cos(w_0*t*np.sqrt(1-1/(4*Q**2)))) \n",
    "\n",
    "import matplotlib.pyplot as plt\n",
    "fig,ax=plt.subplots()\n",
    "\n",
    "ax.plot(t,rlc)\n",
    "ax.plot(t,echelon)"
   ]
  },
  {
   "cell_type": "markdown",
   "metadata": {},
   "source": [
    "# Exercice\n",
    "* À l'aide de la fonction `randint` du module random de la bibliothèque numpy, écrivez une fonction `somme_dés(n)` retournant le résultat de la somme de n dés à six faces tirés aléatoirement.\n",
    "\n",
    "* Tracez l'histogramme des résultats de 1000 tirage de 200 dés. Vers quoi converge cette distribution ?\n",
    "* Trouvez les fonctions permettant de calculer la valeur moyenne et l'écart type de ce tirage (utilisez les méthodes de `numpy`)"
   ]
  },
  {
   "cell_type": "code",
   "execution_count": 39,
   "metadata": {},
   "outputs": [
    {
     "name": "stdout",
     "output_type": "stream",
     "text": [
      "10.499714379999999 0.017912166642134613\n"
     ]
    },
    {
     "data": {
      "image/png": "[encoded data removed]",
      "text/plain": [
       "<Figure size 432x288 with 1 Axes>"
      ]
     },
     "metadata": {
      "needs_background": "light"
     },
     "output_type": "display_data"
    }
   ],
   "source": [
    "def sum_dice(n):\n",
    "    return np.sum(np.random.randint(1,21,n))\n",
    "n=100000\n",
    "l=np.array([sum_dice(n)/n for k in range(1000)])\n",
    "fig,ax = plt.subplots()\n",
    "\n",
    "ax.hist(l,bins='auto')\n",
    "\n",
    "print(l.mean(),l.std())"
   ]
  },
  {
   "cell_type": "markdown",
   "metadata": {},
   "source": [
    "## Exercice\n",
    "* Utilisez les fonctions random du numpy et scatter de matplotlib pour représenter un nuage de point distribué aléatoirement sur le carré [-1,1]x[-1,1] \n",
    "\n",
    "* Ajoutez un cercle de rayon r=1 sur ce graphe. (Utilisez la représentation paramétrique du cercle)\n",
    "\n",
    "Bonus : \n",
    "Estimez $\\pi$ à partir de ce tirage (il s'agit d'une méthode de Monte-Carlo)"
   ]
  },
  {
   "cell_type": "code",
   "execution_count": 38,
   "metadata": {},
   "outputs": [
    {
     "data": {
      "text/plain": [
       "3.1418128"
      ]
     },
     "execution_count": 38,
     "metadata": {},
     "output_type": "execute_result"
    },
    {
     "data": {
      "image/png": "[encoded data removed]",
      "text/plain": [
       "<Figure size 432x288 with 1 Axes>"
      ]
     },
     "metadata": {
      "needs_background": "light"
     },
     "output_type": "display_data"
    }
   ],
   "source": [
    "import numpy as np\n",
    "import matplotlib.pyplot as plt\n",
    "\n",
    "N=1000\n",
    "X = 2*(np.random.rand(N)-0.5)\n",
    "Y = 2*(np.random.rand(N)-0.5)\n",
    "\n",
    "t=np.linspace(0,2*np.pi,200)\n",
    "\n",
    "fig,ax=plt.subplots()\n",
    "\n",
    "ax.scatter(X,Y)\n",
    "ax.plot(np.cos(t),np.sin(t),color='r')\n",
    "\n",
    "ax.axis('equal')\n",
    "\n",
    "R = X**2+Y**2\n",
    "(np.sum(np.where(R<=1,1,0))/N)*4"
   ]
  },
  {
   "cell_type": "code",
   "execution_count": 7,
   "metadata": {},
   "outputs": [
    {
     "data": {
      "text/plain": [
       "array([ 0.16507532,  0.72427397,  0.46693532,  0.39733352, -0.10787145,\n",
       "       -0.4575932 , -0.98954077, -0.45458994, -0.16085194,  0.43493272])"
      ]
     },
     "execution_count": 7,
     "metadata": {},
     "output_type": "execute_result"
    }
   ],
   "source": [
    "X"
   ]
  },
  {
   "cell_type": "markdown",
   "metadata": {},
   "source": [
    "## Exercice\n",
    "Traçez le potentiel de Morse du diazote :\n",
    "\n",
    "$$ U(r) =U_0\\left( \\exp \\left(-2a(r-r_0)\\right) -2 \\exp \\left(-a(r-r_0)\\right)\\right) $$\n",
    "\n",
    "Pour N$_2$ : $U_0 = 943$kJ/mol ; $r_0=1.08Å$ ; $a=2.73Å^{-1}$.\n",
    "\n",
    "Pour quelles valeurs de r ce potentiel s'annule ? (utilisez la fonction **bisect** du module scipy.optimize)\n",
    "Comment fonctionne cette fonction ?"
   ]
  },
  {
   "cell_type": "code",
   "execution_count": 1,
   "metadata": {},
   "outputs": [
    {
     "data": {
      "image/png": "[encoded data removed]",
      "text/plain": [
       "<Figure size 432x288 with 1 Axes>"
      ]
     },
     "metadata": {
      "needs_background": "light"
     },
     "output_type": "display_data"
    }
   ],
   "source": [
    "import matplotlib.pyplot as plt\n",
    "import numpy as np\n",
    "\n",
    "def Morse(r,U,r0,a):\n",
    "    return U*(np.exp(-2*a*(r-r0))-2*np.exp(-a*(r-r0)))\n",
    "\n",
    "r = np.linspace(0.7,5,100)\n",
    "U = 943\n",
    "r0=1.08\n",
    "a=2.73\n",
    "\n",
    "\n",
    "fig,ax=plt.subplots()\n",
    "ax.plot(r,Morse(r,U,r0,a))\n",
    "ax.grid()"
   ]
  },
  {
   "cell_type": "code",
   "execution_count": 3,
   "metadata": {
    "scrolled": true
   },
   "outputs": [
    {
     "name": "stdout",
     "output_type": "stream",
     "text": [
      "0.8260999338617694 -9.714768545165953e-09\n"
     ]
    }
   ],
   "source": [
    "from scipy.optimize import bisect\n",
    "sol=bisect(lambda x :Morse(x,U,r0,a),0.5,1)\n",
    "print(sol,Morse(sol,U,r0,a))"
   ]
  },
  {
   "cell_type": "markdown",
   "metadata": {},
   "source": [
    "## Tracé de graphes avec barres d'erreurs et ajustements"
   ]
  },
  {
   "cell_type": "markdown",
   "metadata": {},
   "source": [
    "### Ajustements\n",
    "\n",
    "https://docs.scipy.org/doc/scipy/reference/generated/scipy.optimize.curve_fit.html"
   ]
  },
  {
   "cell_type": "code",
   "execution_count": 1,
   "metadata": {},
   "outputs": [],
   "source": [
    "from scipy.optimize import curve_fit\n",
    "curve_fit?"
   ]
  },
  {
   "cell_type": "markdown",
   "metadata": {},
   "source": [
    "il s'agit de la méthode la plus répendue pour ajuster une courbe. Cependant le programme officiel à choisi de mettre en avant une autre méthode : `polyfit` du package `numpy`qui ne permet que de faire une régression linéaire (en fait polynomiale)"
   ]
  },
  {
   "cell_type": "code",
   "execution_count": 104,
   "metadata": {},
   "outputs": [],
   "source": [
    "np.polyfit?"
   ]
  },
  {
   "cell_type": "markdown",
   "metadata": {},
   "source": [
    "### Exercice \n",
    "\n",
    "**Trouver une fonction dans le module NumPy permettant de générer des nombres aléatoires entre 0 et 1. Tracer alors la courbe affine y = 3x + 2 en générant un \"bruit aléatoire de mesure\"**"
   ]
  },
  {
   "cell_type": "code",
   "execution_count": 99,
   "metadata": {},
   "outputs": [
    {
     "data": {
      "image/png": "[encoded data removed]",
      "text/plain": [
       "<Figure size 432x288 with 1 Axes>"
      ]
     },
     "metadata": {
      "needs_background": "light"
     },
     "output_type": "display_data"
    }
   ],
   "source": [
    "N= 10\n",
    "x = np.linspace(0,3,N)\n",
    "data = 3*x+2+ 3*(np.random.rand(N)-0.5)\n",
    "\n",
    "plt.plot(x,data,'.',\n",
    "    x,3*x+2,'--r')\n",
    "plt.show()"
   ]
  },
  {
   "cell_type": "code",
   "execution_count": 100,
   "metadata": {},
   "outputs": [
    {
     "data": {
      "text/plain": [
       "array([2.6503444 , 2.00146332])"
      ]
     },
     "execution_count": 100,
     "metadata": {},
     "output_type": "execute_result"
    }
   ],
   "source": [
    "def fonction_ajust(x,a,b):\n",
    "    return a*x+b\n",
    "\n",
    "popt, pcov = curve_fit(fonction_ajust, x, data)\n",
    "'''\n",
    "popt est un vecteur avec tous les paramètres de la fonction d'ajustement\n",
    "\n",
    "pcov est un vecteur qui contient la matrice de covariances\n",
    "On peut obtenir les écarts-types des paramètres d'ajustements en prenant les termes diagonaux.\n",
    "'''\n",
    "\n",
    "popt"
   ]
  },
  {
   "cell_type": "code",
   "execution_count": 29,
   "metadata": {},
   "outputs": [
    {
     "data": {
      "text/plain": [
       "array([[ 0.09082746, -0.13624119],\n",
       "       [-0.13624119,  0.28762028]])"
      ]
     },
     "execution_count": 29,
     "metadata": {},
     "output_type": "execute_result"
    }
   ],
   "source": [
    "pcov"
   ]
  },
  {
   "cell_type": "code",
   "execution_count": 101,
   "metadata": {},
   "outputs": [
    {
     "name": "stdout",
     "output_type": "stream",
     "text": [
      "resultat :\n",
      "a= 2.650344404049782 +/- 0.12478786006719914 \n",
      "b= 2.0014633200673284 +/- 0.39516155334426345\n"
     ]
    }
   ],
   "source": [
    "print(\"resultat :\\n\"\n",
    "      \"a=\",popt[0],\"+/-\",pcov[0,0],\"\\n\"\n",
    "      \"b=\",popt[1],\"+/-\",pcov[1,1])"
   ]
  },
  {
   "cell_type": "code",
   "execution_count": 103,
   "metadata": {},
   "outputs": [
    {
     "name": "stdout",
     "output_type": "stream",
     "text": [
      "2.6503444022814824 2.001463322870175\n"
     ]
    },
    {
     "data": {
      "text/plain": [
       "[<matplotlib.lines.Line2D at 0x7f24f3dba190>,\n",
       " <matplotlib.lines.Line2D at 0x7f24f3dba100>]"
      ]
     },
     "execution_count": 103,
     "metadata": {},
     "output_type": "execute_result"
    },
    {
     "data": {
      "image/png": "[encoded data removed]",
      "text/plain": [
       "<Figure size 432x288 with 1 Axes>"
      ]
     },
     "metadata": {
      "needs_background": "light"
     },
     "output_type": "display_data"
    }
   ],
   "source": [
    "a,b=np.polyfit(x,data,1)\n",
    "print(a,b)\n",
    "plt.plot(x,data,'.',\n",
    "        x,a*x+b)"
   ]
  },
  {
   "cell_type": "code",
   "execution_count": 31,
   "metadata": {},
   "outputs": [
    {
     "data": {
      "image/png": "[encoded data removed]",
      "text/plain": [
       "<Figure size 432x288 with 1 Axes>"
      ]
     },
     "metadata": {
      "needs_background": "light"
     },
     "output_type": "display_data"
    }
   ],
   "source": [
    "plt.plot(x,data,'.',\n",
    "     x,fonction_ajust(x,popt[0],popt[1]),'k',\n",
    "     x,3*x+2,'--r')\n",
    "plt.show()"
   ]
  },
  {
   "cell_type": "markdown",
   "metadata": {},
   "source": [
    "### Exercice \n",
    "\n",
    "**On a fait deux mesures : une loi d'Ohm, et une décharge d'un condensateur. En ajustant les données expérimentales avec les modèles théoriques, retrouver les valeurs de R et C.**\n",
    "\n",
    "*Bonus : Recréez vous-mêmes ces données en générant du bruit aléatoire avec la fonction np.random.rand.*"
   ]
  },
  {
   "cell_type": "code",
   "execution_count": 32,
   "metadata": {},
   "outputs": [],
   "source": [
    "'''\n",
    "\n",
    "Et oui, les données étaient numériques !\n",
    "\n",
    "'''\n",
    "\n",
    "E = 1\n",
    "R = 1e3\n",
    "C = 100e-9\n",
    "tau = R*C #1e-4 s = 0.1 ms\n",
    "\n",
    "# Données\n",
    "N= 400\n",
    "\n",
    "I = np.linspace(0,0.1,N)\n",
    "Ohm =  R*I + 4*(np.random.rand(N)-0.5)\n",
    "np.savetxt(r\"./Output/data_Ohm_I.txt\",I, delimiter=\" \")\n",
    "np.savetxt(r\"./Output/data_Ohm_U.txt\",Ohm, delimiter=\" \")\n",
    "\n",
    "t = np.linspace(0,10*tau,N)\n",
    "decharge =  E*np.exp(-t/tau) + 0.03*(np.random.rand(N)-0.5)\n",
    "np.savetxt(r\"./Output/data_RC_t.txt\",t, delimiter=\" \")\n",
    "np.savetxt(r\"./Output/data_RC_U.txt\",decharge, delimiter=\" \")"
   ]
  },
  {
   "cell_type": "code",
   "execution_count": 33,
   "metadata": {},
   "outputs": [
    {
     "name": "stdout",
     "output_type": "stream",
     "text": [
      "[1000.45963699]\n"
     ]
    },
    {
     "data": {
      "image/png": "[encoded data removed]",
      "text/plain": [
       "<Figure size 432x288 with 1 Axes>"
      ]
     },
     "metadata": {
      "needs_background": "light"
     },
     "output_type": "display_data"
    }
   ],
   "source": [
    "# Ajustement Loi d'Ohm\n",
    "I = np.loadtxt(r\"./Data/data_Ohm_I.txt\", delimiter=\" \")\n",
    "U = np.loadtxt(r\"./Data/data_Ohm_U.txt\", delimiter=\" \")\n",
    "\n",
    "def Ohm(I,R):\n",
    "    return R*I\n",
    "\n",
    "popt, pcov = curve_fit(Ohm, I, U)\n",
    "print(popt)\n",
    "plt.plot(I,U,'.r',\n",
    "    I,Ohm(I,popt[0]),'k')\n",
    "plt.show()"
   ]
  },
  {
   "cell_type": "code",
   "execution_count": 36,
   "metadata": {},
   "outputs": [
    {
     "name": "stdout",
     "output_type": "stream",
     "text": [
      "[1.00053473e+00 9.98080826e-05]\n"
     ]
    },
    {
     "data": {
      "image/png": "[encoded data removed]",
      "text/plain": [
       "<Figure size 432x288 with 1 Axes>"
      ]
     },
     "metadata": {
      "needs_background": "light"
     },
     "output_type": "display_data"
    }
   ],
   "source": [
    "# Ajustement décharge\n",
    "\n",
    "t = np.loadtxt(r\"./Data/data_RC_t.txt\", delimiter=\" \")\n",
    "Uc = np.loadtxt(r\"./Data/data_RC_U.txt\", delimiter=\" \")\n",
    "\n",
    "#plt.plot(I,Ohm,'.')\n",
    "\n",
    "def decharge(t,E,tau):\n",
    "    return E*np.exp(-t/tau)\n",
    "\n",
    "popt, pcov = curve_fit(decharge, t, Uc, p0=np.array([1,1e-3]))\n",
    "print(popt)\n",
    "plt.plot(t,Uc,'.r',\n",
    "    t,decharge(t,popt[0],popt[1]),'k')\n",
    "plt.show()"
   ]
  },
  {
   "cell_type": "markdown",
   "metadata": {},
   "source": [
    "### Afficher les barres d'erreurs d'un tableau de données, et les prendre en compte lors de l'ajustement"
   ]
  },
  {
   "cell_type": "code",
   "execution_count": 37,
   "metadata": {},
   "outputs": [
    {
     "data": {
      "image/png": "[encoded data removed]",
      "text/plain": [
       "<Figure size 432x288 with 1 Axes>"
      ]
     },
     "metadata": {
      "needs_background": "light"
     },
     "output_type": "display_data"
    }
   ],
   "source": [
    "N= 30\n",
    "x = np.linspace(0,3,N)\n",
    "data = 3*x+1+ 3*(np.random.rand(N)-0.5)\n",
    "\n",
    "error = np.random.rand(N)\n",
    "\n",
    "np.savetxt(r\"./Output/data1.txt\",data, delimiter=\" \")\n",
    "np.savetxt(r\"./Output/error1.txt\",error, delimiter=\" \")\n",
    "\n",
    "plt.errorbar(x,data,error, fmt=\".\")\n",
    "plt.show()"
   ]
  },
  {
   "cell_type": "code",
   "execution_count": 39,
   "metadata": {},
   "outputs": [
    {
     "name": "stdout",
     "output_type": "stream",
     "text": [
      "[2.82571472 1.21432055]\n",
      "[2.41066608 2.23118363]\n"
     ]
    }
   ],
   "source": [
    "def funct(x,a,b):\n",
    "    return a*x+b\n",
    "\n",
    "popt, pcov = curve_fit(funct, x, data)\n",
    "popt2, pcov2 = curve_fit(funct, x, data,sigma=error)\n",
    "\n",
    "print(popt)\n",
    "print(popt2)"
   ]
  },
  {
   "cell_type": "code",
   "execution_count": 40,
   "metadata": {
    "scrolled": true
   },
   "outputs": [
    {
     "data": {
      "text/plain": [
       "[<matplotlib.lines.Line2D at 0x101bab8610>,\n",
       " <matplotlib.lines.Line2D at 0x101ba75250>]"
      ]
     },
     "execution_count": 40,
     "metadata": {},
     "output_type": "execute_result"
    },
    {
     "data": {
      "image/png": "[encoded data removed]",
      "text/plain": [
       "<Figure size 432x288 with 1 Axes>"
      ]
     },
     "metadata": {
      "needs_background": "light"
     },
     "output_type": "display_data"
    }
   ],
   "source": [
    "plt.errorbar(x,data,error, fmt=\".\")\n",
    "\n",
    "plt.plot(x,funct(x,popt[0],popt[1]),'r',\n",
    "         x,funct(x,popt2[0],popt2[1]),'b')"
   ]
  },
  {
   "cell_type": "markdown",
   "metadata": {},
   "source": [
    "## Résolution d'une équation différentielle\n",
    "\n",
    "Résolution d'une équation différentielle d'une désintégration radioactive : $$\\frac{\\mathrm{d}N}{\\mathrm{d}t}=-\\frac{N}{\\tau}$$\n",
    "avec $\\tau=1$, et la condition initiale $N(0)=10$, entre $t=0$ et $t=12$."
   ]
  },
  {
   "cell_type": "code",
   "execution_count": 45,
   "metadata": {},
   "outputs": [
    {
     "data": {
      "image/png": "[encoded data removed]",
      "text/plain": [
       "<Figure size 432x288 with 1 Axes>"
      ]
     },
     "metadata": {
      "needs_background": "light"
     },
     "output_type": "display_data"
    }
   ],
   "source": [
    "from scipy.integrate import odeint      # Module de résolution des équations différentielles\n",
    "\n",
    "tau = 1\n",
    "\n",
    "def deriv(syst, t):\n",
    "    N = syst[0]                         # Variable1 N(t)\n",
    "    dNdt=-N/tau                         # Equation différentielle\n",
    "    return [dNdt]                       # Dérivées des variables\n",
    "\n",
    "# Paramètres d'intégration\n",
    "start = 0\n",
    "end = 12\n",
    "numsteps = 50\n",
    "t = np.linspace(start,end,numsteps)\n",
    "\n",
    "# Conditions initiales et résolution\n",
    "N0=10              \n",
    "syst_CI=np.array([N0])                     # Tableau des CI\n",
    "Sols=odeint(deriv,syst_CI,t)            # Résolution numérique de l'équation différentielle\n",
    "\n",
    "# Récupération des solutions\n",
    "N = Sols[:, 0]\n",
    "\n",
    "# Graphiques des solutions\n",
    "plt.plot(t, N0*np.exp(-t), '-b', lw=1.5, label=u\"Sol. analytique\")          # Solution analytique\n",
    "plt.plot(t, N, 'o', ms=6, mfc='r', mec='k',label=u\"Sol. numérique\")  # Solution numérique\n",
    "\n",
    "plt.xlabel(r\"$t/\\tau$\", fontsize=16)      # Label de l'axe des abscisses\n",
    "plt.ylabel(r\"$N/N_{0}$\", fontsize=16)     # Label de l'axe des ordonnées\n",
    "\n",
    "plt.legend()                                                # Appel de la légende\n",
    "plt.show()\n"
   ]
  },
  {
   "cell_type": "markdown",
   "metadata": {},
   "source": [
    "### Exercice \n",
    "**Résoudre l'équation différentielle suivante :**\n",
    "$$\\frac{dy}{dx}+x^2y(x) = 0$$"
   ]
  },
  {
   "cell_type": "code",
   "execution_count": 46,
   "metadata": {},
   "outputs": [
    {
     "data": {
      "image/png": "[encoded data removed]",
      "text/plain": [
       "<Figure size 432x288 with 1 Axes>"
      ]
     },
     "metadata": {
      "needs_background": "light"
     },
     "output_type": "display_data"
    }
   ],
   "source": [
    "from scipy.integrate import odeint      # Module de résolution des équations différentielles\n",
    "\n",
    "\n",
    "def deriv(syst, x):\n",
    "    y = syst[0]\n",
    "    dydt= -x**2*y        # Equation différentielle\n",
    "    return [dydt]                       # Dérivées des variables\n",
    "\n",
    "# Paramètres d'intégration\n",
    "t = np.linspace(0,12,50)\n",
    "\n",
    "# Conditions initiales et résolution\n",
    "syst_CI=np.array([1.])               # Tableau des CI\n",
    "Sols=odeint(deriv,syst_CI,x)            # Résolution numérique de l'équation différentielle\n",
    "\n",
    "# Récupération des solutions\n",
    "N = Sols[:, 0]\n",
    "\n",
    "# Graphiques des solutions\n",
    "plt.plot(x, N, 'o', ms=6, mfc='r', mec='k',label=u\"Sol. numérique\")  # Solution numérique\n",
    "\n",
    "plt.xlabel(r\"$x$\", fontsize=16)      # Label de l'axe des abscisses\n",
    "plt.ylabel(r\"$y$\", fontsize=16)     # Label de l'axe des ordonnées\n",
    "\n",
    "plt.legend()                                                # Appel de la légende\n",
    "plt.show()\n"
   ]
  },
  {
   "cell_type": "markdown",
   "metadata": {},
   "source": [
    "### Exercice \n",
    "**Résoudre l'équation différentielle du pendule simple :**\n",
    "$$\\frac{d^2y}{dx^2}+\\sin(y) = 0$$"
   ]
  },
  {
   "cell_type": "code",
   "execution_count": 51,
   "metadata": {
    "scrolled": false
   },
   "outputs": [
    {
     "data": {
      "image/png": "[encoded data removed]",
      "text/plain": [
       "<Figure size 432x288 with 1 Axes>"
      ]
     },
     "metadata": {
      "needs_background": "light"
     },
     "output_type": "display_data"
    }
   ],
   "source": [
    "from scipy.integrate import odeint      # Module de résolution des équations différentielles\n",
    "\n",
    "def deriv(syst, t):\n",
    "    y1,y2 = syst\n",
    "    dydt= [y2,-np.sin(y1)]        # Equation différentielle\n",
    "    return dydt                       # Dérivées des variables\n",
    "\n",
    "# Paramètres d'intégration\n",
    "t = np.linspace(0,12,50)\n",
    "\n",
    "# Conditions initiales et résolution\n",
    "syst_CI=[np.pi/10 - 0.1, 0.0]               # Tableau des CI\n",
    "Sols=odeint(deriv,syst_CI,t)            # Résolution numérique de l'équation différentielle\n",
    "\n",
    "# Récupération des solutions\n",
    "N = Sols[:, 0]\n",
    "\n",
    "# Graphiques des solutions\n",
    "plt.plot(t, N, 'o', ms=6, mfc='r', mec='k',label=u\"Sol. numérique\")  # Solution numérique\n",
    "plt.plot(t,syst_CI[0]*np.cos(t),'b',label=u\"Sol. linéaire\")\n",
    "\n",
    "plt.xlabel(r\"$x$\", fontsize=16)      # Label de l'axe des abscisses\n",
    "plt.ylabel(r\"$y$\", fontsize=16)     # Label de l'axe des ordonnées\n",
    "\n",
    "plt.legend()                                                # Appel de la légende\n",
    "plt.show()\n"
   ]
  },
  {
   "cell_type": "markdown",
   "metadata": {},
   "source": [
    "# Passez à au prochain notebook, la suite est 'hors programme'"
   ]
  },
  {
   "cell_type": "markdown",
   "metadata": {},
   "source": [
    "## Calcul du $\\chi^2$ réduit"
   ]
  },
  {
   "cell_type": "markdown",
   "metadata": {},
   "source": [
    "## Exercice\n",
    "\n",
    "**Écrire une fonction qui étant donnés trois tableaux x, y, erreurs, et la fonction d'ajustement, calcule le $\\chi^2$ réduit défini par :**\n",
    "\n",
    "$$\\frac{\\chi^2}{N-2} = \\frac{1}{N-2}\\sum_i \\frac{(y_i-f(x_i))^2}{\\sigma_i^2}$$"
   ]
  },
  {
   "cell_type": "code",
   "execution_count": 41,
   "metadata": {},
   "outputs": [],
   "source": [
    "N= 10\n",
    "x = np.linspace(0,3,N)\n",
    "data = 3*x+2+ 2*(np.random.rand(N)-0.5)\n",
    "error = 0.5*np.linspace(1,4,N)\n",
    "popt2, pcov2 = curve_fit(funct, x, data,sigma=error)\n",
    "\n",
    "\n",
    "def chi2reduit (x,y,erreurs,f):\n",
    "    fxi = f(x)\n",
    "    N = len(x)\n",
    "    return 1/(N-2)*sum((y-fxi)**2/erreurs**2)\n",
    "\n",
    "def f(x):\n",
    "    return funct(x,popt2[0],popt2[1])"
   ]
  },
  {
   "cell_type": "code",
   "execution_count": 42,
   "metadata": {},
   "outputs": [
    {
     "data": {
      "text/plain": [
       "0.1639516065333647"
      ]
     },
     "execution_count": 42,
     "metadata": {},
     "output_type": "execute_result"
    },
    {
     "data": {
      "image/png": "[encoded data removed]",
      "text/plain": [
       "<Figure size 432x288 with 1 Axes>"
      ]
     },
     "metadata": {
      "needs_background": "light"
     },
     "output_type": "display_data"
    }
   ],
   "source": [
    "plt.errorbar(x,data,error, fmt=\".\")\n",
    "plt.plot(x,funct(x,popt2[0],popt2[1]),'b')\n",
    "\n",
    "chi2reduit(x,data,error,f)"
   ]
  },
  {
   "cell_type": "markdown",
   "metadata": {},
   "source": [
    "## Résolution d'un système d'équations"
   ]
  },
  {
   "cell_type": "code",
   "execution_count": 43,
   "metadata": {},
   "outputs": [
    {
     "data": {
      "text/plain": [
       "array([ 2.00000000e+00, -1.20797142e-17, -1.00000000e+00])"
      ]
     },
     "execution_count": 43,
     "metadata": {},
     "output_type": "execute_result"
    }
   ],
   "source": [
    "from scipy.optimize import fsolve\n",
    "\n",
    "def syst(var): \n",
    "    '''\n",
    "    Fonction qui prend en argument les variables du problèmes, et renvoie les équations vérifiées par celles-ci\n",
    "    '''\n",
    "    (x, y, z) = var # pour donner des noms aux trois variables dans var =[x,y,z]\n",
    "    eq1 = x +10*y-3*z-5\n",
    "    eq2 = 2*x-y+2*z-2\n",
    "    eq3 = -x+y+z+3\n",
    "    \n",
    "    return [eq1, eq2, eq3]\n",
    "\n",
    "x0, y0, z0 = 0, 0, 0 # Initialisation de la recherche des solutions numériques\n",
    "sol_ini = [x0, y0, z0]\n",
    "\n",
    "fsolve(syst, sol_ini)"
   ]
  },
  {
   "cell_type": "markdown",
   "metadata": {},
   "source": [
    "### Exercice \n",
    "\n",
    "**Mettre sous forme d'un système puis le résoudre le problème suivant.**\n",
    "\n",
    "*Une mère et sa fille ont à eux deux 36 ans. Sachant que la mère a 30 ans de plus que la fille, quels âges ont-elles ?*"
   ]
  },
  {
   "cell_type": "code",
   "execution_count": 44,
   "metadata": {},
   "outputs": [
    {
     "data": {
      "text/plain": [
       "array([33.,  3.])"
      ]
     },
     "execution_count": 44,
     "metadata": {},
     "output_type": "execute_result"
    }
   ],
   "source": [
    "from scipy.optimize import fsolve\n",
    "\n",
    "def syst(var): \n",
    "    '''\n",
    "    Fonction qui prend en argument les variables du problèmes, et renvoie les équations vérifiées par celles-ci\n",
    "    '''\n",
    "    mere,fille = var[0], var[1]\n",
    "    eq1 = mere + fille - 36\n",
    "    eq2 = mere - fille - 30\n",
    "    res = [eq1, eq2]\n",
    "    return res\n",
    "\n",
    "sol_ini = [0, 0]\n",
    "\n",
    "fsolve(syst, sol_ini)"
   ]
  }
 ],
 "metadata": {
  "kernelspec": {
   "display_name": "Python 3",
   "language": "python",
   "name": "python3"
  },
  "language_info": {
   "codemirror_mode": {
    "name": "ipython",
    "version": 3
   },
   "file_extension": ".py",
   "mimetype": "text/x-python",
   "name": "python",
   "nbconvert_exporter": "python",
   "pygments_lexer": "ipython3",
   "version": "3.8.8"
  }
 },
 "nbformat": 4,
 "nbformat_minor": 2
}
