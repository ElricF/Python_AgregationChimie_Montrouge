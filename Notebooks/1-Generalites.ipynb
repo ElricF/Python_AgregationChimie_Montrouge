{
 "cells": [
  {
   "cell_type": "markdown",
   "metadata": {},
   "source": [
    "# Introduction à Python"
   ]
  },
  {
   "cell_type": "markdown",
   "metadata": {},
   "source": [
    "### Généralités\n",
    "\n",
    "* Langage de programmation (créé en 1991, en hommage aux Monty Python)\n",
    "* Langage **interprété** (et non compilé comme le C, le Pascal): pas de phase de compilation où il faut convertir le code en langage compréhensible par la machine\n",
    "* Version actuelle : 3.12\n",
    "\n",
    "### À quoi sert Python ?\n",
    "\n",
    "* des scripts de programmation\n",
    "* de l'analyse de données (Datasciences)\n",
    "* fait tourner des systèmes d'exploitation (Linux, Mac)\n",
    "* des sites web (Youtube via le CMS Django)\n",
    "* des jeux (Civilization via PyGame)\n",
    "* des montages de films ou animation (Blender)\n",
    "* des applications de smartphone, tablette\n",
    "\n",
    "### Comment ça fonctionne ?\n",
    "\n",
    "* Python est le nom du langage. \"Installer Python\" signifie installer les bibliothèques de modules (concrètement des dossiers de fichiers) qui répertorient les fonctions du langage.\n",
    "* On tape du code dans un éditeur (BlocNote, Word, etc.) qu'il faut ensuite exécuter indépendamment.\n",
    "* Certains éditeurs permettent aussi d'exécuter le script Python (Spyder, Jupyter, etc.)"
   ]
  },
  {
   "cell_type": "markdown",
   "metadata": {},
   "source": [
    "## Et pour nous ?\n",
    "\n",
    "* Python c'est des points cadeaux aux écrits : 5 épreuves depuis la réforme"
   ]
  },
  {
   "cell_type": "markdown",
   "metadata": {},
   "source": [
    "# Extrait épreuve 2019\n",
    "![2019](../image/2019_b_Python-1.png)"
   ]
  },
  {
   "cell_type": "markdown",
   "metadata": {},
   "source": [
    "# Extrait épreuve 2020 \n",
    "\n",
    "![2020](../image/2020_b_Python.png)"
   ]
  },
  {
   "cell_type": "markdown",
   "metadata": {},
   "source": [
    "# Extrait épreuve 2021\n",
    "\n",
    "![2020](../image/2021_b_Python.png)"
   ]
  },
  {
   "cell_type": "markdown",
   "metadata": {},
   "source": [
    "# Extrait épreuve 2022 \n",
    "\n",
    "![2020](../image/2022_b_Python.png)"
   ]
  },
  {
   "cell_type": "markdown",
   "metadata": {},
   "source": [
    "# Extrait épreuve 2023 \n",
    "\n",
    "![2020](../image/2023_b_Python.png)"
   ]
  },
  {
   "cell_type": "markdown",
   "metadata": {},
   "source": [
    "# **Python c'est une compétence très valorisée à l'oral**\n",
    "\n",
    "Le jury se sert généralement mal de python donc il se fait facilement impressionné par un programme simple **mais pertinent**"
   ]
  },
  {
   "cell_type": "markdown",
   "metadata": {},
   "source": [
    "## Et pour vos futur·e·s étudiant·e·s  ?"
   ]
  },
  {
   "cell_type": "markdown",
   "metadata": {},
   "source": [
    "Recherchez les occurences de 'Python' dans les programmes de Chimie et de Physique :\n",
    "\n",
    "https://prepas.org/index.php?rubrique=53"
   ]
  },
  {
   "cell_type": "markdown",
   "metadata": {},
   "source": [
    "![programme](../image/Compilation_programme.png)"
   ]
  },
  {
   "cell_type": "markdown",
   "metadata": {},
   "source": [
    "## Python, une calculatrice puissante"
   ]
  },
  {
   "cell_type": "markdown",
   "metadata": {},
   "source": [
    "Python connait toutes les opérations classiques ( + , - , / , * ) et utilise les règles de priorité habituelles."
   ]
  },
  {
   "cell_type": "code",
   "execution_count": null,
   "metadata": {},
   "outputs": [],
   "source": [
    "2*2"
   ]
  },
  {
   "cell_type": "code",
   "execution_count": null,
   "metadata": {},
   "outputs": [],
   "source": [
    "16/3-1"
   ]
  },
  {
   "cell_type": "code",
   "execution_count": null,
   "metadata": {},
   "outputs": [],
   "source": [
    "3**2"
   ]
  },
  {
   "cell_type": "markdown",
   "metadata": {},
   "source": [
    "**Exercice** : À quoi correspondent ces opérateurs ?"
   ]
  },
  {
   "cell_type": "code",
   "execution_count": null,
   "metadata": {},
   "outputs": [],
   "source": [
    "17//3"
   ]
  },
  {
   "cell_type": "code",
   "execution_count": null,
   "metadata": {},
   "outputs": [],
   "source": [
    "17%3"
   ]
  },
  {
   "cell_type": "markdown",
   "metadata": {},
   "source": [
    "Et si on allait plus loin ?"
   ]
  },
  {
   "cell_type": "code",
   "execution_count": null,
   "metadata": {},
   "outputs": [],
   "source": [
    "pi"
   ]
  },
  {
   "cell_type": "code",
   "execution_count": null,
   "metadata": {},
   "outputs": [],
   "source": [
    "exp(3)"
   ]
  },
  {
   "cell_type": "markdown",
   "metadata": {},
   "source": [
    "On verra un peu plus loin pourquoi on a ces erreurs."
   ]
  },
  {
   "cell_type": "markdown",
   "metadata": {},
   "source": [
    "## Définitions de variables"
   ]
  },
  {
   "cell_type": "code",
   "execution_count": null,
   "metadata": {},
   "outputs": [],
   "source": [
    "x = 2\n",
    "une_autre_variable =  \"MonNom\"\n",
    "une_autre_variable"
   ]
  },
  {
   "cell_type": "markdown",
   "metadata": {},
   "source": [
    "* Pas de ; pour finir les lignes (*usage très rare : seulement pour séparer les instructions sur une seule ligne*)"
   ]
  },
  {
   "cell_type": "markdown",
   "metadata": {},
   "source": [
    "## Types de variables"
   ]
  },
  {
   "cell_type": "code",
   "execution_count": 1,
   "metadata": {},
   "outputs": [
    {
     "data": {
      "text/plain": [
       "int"
      ]
     },
     "execution_count": 1,
     "metadata": {},
     "output_type": "execute_result"
    }
   ],
   "source": [
    "a=3\n",
    "type(a)"
   ]
  },
  {
   "cell_type": "code",
   "execution_count": 2,
   "metadata": {},
   "outputs": [
    {
     "data": {
      "text/plain": [
       "float"
      ]
     },
     "execution_count": 2,
     "metadata": {},
     "output_type": "execute_result"
    }
   ],
   "source": [
    "a=3.1\n",
    "type(a)"
   ]
  },
  {
   "cell_type": "code",
   "execution_count": 3,
   "metadata": {},
   "outputs": [
    {
     "data": {
      "text/plain": [
       "bool"
      ]
     },
     "execution_count": 3,
     "metadata": {},
     "output_type": "execute_result"
    }
   ],
   "source": [
    "b=True\n",
    "type(b)"
   ]
  },
  {
   "cell_type": "code",
   "execution_count": 4,
   "metadata": {},
   "outputs": [
    {
     "data": {
      "text/plain": [
       "str"
      ]
     },
     "execution_count": 4,
     "metadata": {},
     "output_type": "execute_result"
    }
   ],
   "source": [
    "c = \"Hello\"\n",
    "type(c)"
   ]
  },
  {
   "cell_type": "code",
   "execution_count": 5,
   "metadata": {},
   "outputs": [
    {
     "data": {
      "text/plain": [
       "'H'"
      ]
     },
     "execution_count": 5,
     "metadata": {},
     "output_type": "execute_result"
    }
   ],
   "source": [
    "c[0]"
   ]
  },
  {
   "cell_type": "code",
   "execution_count": 6,
   "metadata": {},
   "outputs": [
    {
     "data": {
      "text/plain": [
       "'l'"
      ]
     },
     "execution_count": 6,
     "metadata": {},
     "output_type": "execute_result"
    }
   ],
   "source": [
    "c[-3]"
   ]
  },
  {
   "cell_type": "markdown",
   "metadata": {},
   "source": [
    "Les string sont en fait des sortes de listes de caractères. On définit plus généralement des listes d'objets :"
   ]
  },
  {
   "cell_type": "code",
   "execution_count": 7,
   "metadata": {},
   "outputs": [
    {
     "data": {
      "text/plain": [
       "list"
      ]
     },
     "execution_count": 7,
     "metadata": {},
     "output_type": "execute_result"
    }
   ],
   "source": [
    "l = [2,3,4,\"Hello\", 4.2]\n",
    "type(l)"
   ]
  },
  {
   "cell_type": "code",
   "execution_count": 8,
   "metadata": {},
   "outputs": [
    {
     "data": {
      "text/plain": [
       "'Hello'"
      ]
     },
     "execution_count": 8,
     "metadata": {},
     "output_type": "execute_result"
    }
   ],
   "source": [
    "l[3]"
   ]
  },
  {
   "cell_type": "code",
   "execution_count": 9,
   "metadata": {},
   "outputs": [
    {
     "data": {
      "text/plain": [
       "42"
      ]
     },
     "execution_count": 9,
     "metadata": {},
     "output_type": "execute_result"
    }
   ],
   "source": [
    "l[2] = 42\n",
    "l[2]"
   ]
  },
  {
   "cell_type": "code",
   "execution_count": 10,
   "metadata": {},
   "outputs": [
    {
     "data": {
      "text/plain": [
       "[2, 3, 42, 'Hello', 4.2]"
      ]
     },
     "execution_count": 10,
     "metadata": {},
     "output_type": "execute_result"
    }
   ],
   "source": [
    "l"
   ]
  },
  {
   "cell_type": "markdown",
   "metadata": {},
   "source": [
    " ## Définitions de fonctions"
   ]
  },
  {
   "cell_type": "code",
   "execution_count": 11,
   "metadata": {},
   "outputs": [],
   "source": [
    "# On va écrire une fonction\n",
    "\n",
    "def funct(x) :\n",
    "    '''\n",
    "    Souvent on trouve des descriptions de fonctions entre trois guillemets, c'est le manuel de la fonction\n",
    "    et ça peut courir sur\n",
    "    plusieurs\n",
    "    lignes\n",
    "    '''\n",
    "    y = x*x\n",
    "    return y"
   ]
  },
  {
   "cell_type": "code",
   "execution_count": 12,
   "metadata": {},
   "outputs": [
    {
     "data": {
      "text/plain": [
       "4"
      ]
     },
     "execution_count": 12,
     "metadata": {},
     "output_type": "execute_result"
    }
   ],
   "source": [
    "funct(2)"
   ]
  },
  {
   "cell_type": "markdown",
   "metadata": {},
   "source": [
    "* Noter les \" : \"\n",
    "* On remarque qu'ils y a des **indentations**. C'est ce qui remplace des { } ou des [ ]. Pas de \"begin\" ou \"end\" non plus. Pour passer à autre chose, on revient à la ligne sans indentation.\n",
    "* On remarque que *x* est une variable **locale** : elle n'existe pas en dehors de la définition de la fonction test(y)"
   ]
  },
  {
   "cell_type": "markdown",
   "metadata": {},
   "source": [
    "**Exercice** : Écrire une fonction qui prend en argument une liste et un élément, et le rajoute à la fin de la liste. On pourra chercher le fonctionnement de la commande *append*."
   ]
  },
  {
   "cell_type": "markdown",
   "metadata": {},
   "source": [
    " ## Conditions et tests"
   ]
  },
  {
   "cell_type": "markdown",
   "metadata": {},
   "source": [
    "Un type utile aussi : le Boolean."
   ]
  },
  {
   "cell_type": "code",
   "execution_count": null,
   "metadata": {},
   "outputs": [],
   "source": [
    "y = True"
   ]
  },
  {
   "cell_type": "code",
   "execution_count": 13,
   "metadata": {},
   "outputs": [
    {
     "data": {
      "text/plain": [
       "False"
      ]
     },
     "execution_count": 13,
     "metadata": {},
     "output_type": "execute_result"
    }
   ],
   "source": [
    "(2 == 3)"
   ]
  },
  {
   "cell_type": "code",
   "execution_count": null,
   "metadata": {},
   "outputs": [],
   "source": [
    "x=4\n",
    "test = (x == 3)\n",
    "test"
   ]
  },
  {
   "cell_type": "markdown",
   "metadata": {},
   "source": [
    "Ce type est utilisé dans les **conditions**\n",
    "* Noter le == et non le =\n",
    "* |   &   !=    aussi utilisables"
   ]
  },
  {
   "cell_type": "code",
   "execution_count": null,
   "metadata": {},
   "outputs": [],
   "source": [
    "x=3\n",
    "if (x==2):\n",
    "    print('x est égal à 2')\n",
    "else:\n",
    "    print('x est différent de 2')"
   ]
  },
  {
   "cell_type": "markdown",
   "metadata": {},
   "source": [
    "**Exercice** : Écrire le code ci-dessus sous la forme d'une fonction prenant un argument x. Fignoler le test pour que la fonction vérifie le type de la variable envoyée, et renvoie une erreur si l'argument n'est pas un entier."
   ]
  },
  {
   "cell_type": "code",
   "execution_count": null,
   "metadata": {},
   "outputs": [],
   "source": [
    "def un_test(y):\n",
    "    if (y <= 2):\n",
    "        print(\"y est au plus égal à 2\")\n",
    "    else:\n",
    "        print(\"y est strictement supérieur à 2\")"
   ]
  },
  {
   "cell_type": "markdown",
   "metadata": {},
   "source": [
    "**Exercice**: Écrire une fonction qui détermine si la première ou la seconde lettre d'un mot donné est un \"T\""
   ]
  },
  {
   "cell_type": "markdown",
   "metadata": {},
   "source": [
    "## Boucles for et while"
   ]
  },
  {
   "cell_type": "code",
   "execution_count": null,
   "metadata": {},
   "outputs": [],
   "source": [
    "for j in range(5): # range(n) c'est une liste de nombres entre 0 et n-1\n",
    "    print(j*j)"
   ]
  },
  {
   "cell_type": "markdown",
   "metadata": {},
   "source": [
    "* Pas de \"**then**\". Toujours des \":\" après le if.\n",
    "* Attention, Python numérote à partir de 0. Donc les 3 premiers entiers sont 0, 1, 2."
   ]
  },
  {
   "cell_type": "code",
   "execution_count": null,
   "metadata": {},
   "outputs": [],
   "source": [
    "l = []\n",
    "\n",
    "while (len(l)<5):\n",
    "    print(l)\n",
    "    l.append(len(l))\n"
   ]
  },
  {
   "cell_type": "markdown",
   "metadata": {},
   "source": [
    "Vue l'erreur qu'on a eue plus haut, exp(2) ne serait pas définie dans Python... Vraiment ?"
   ]
  },
  {
   "cell_type": "markdown",
   "metadata": {},
   "source": [
    "## Modules et bibliothèque"
   ]
  },
  {
   "cell_type": "markdown",
   "metadata": {},
   "source": [
    "* De nombreuses fonctions sont déjà définies dans Python : exp, pi, cos, sin, etc. mais elles ne sont pas toutes chargées au lancement ! Il faut les appeler.\n",
    "* Les fonctions sont rangées dans des **modules** (*packages* en anglais)\n",
    "* Les modules peuvent être ordonnés dans des **bibliothèques** (*library* en anglais)"
   ]
  },
  {
   "cell_type": "code",
   "execution_count": null,
   "metadata": {},
   "outputs": [],
   "source": [
    "pi"
   ]
  },
  {
   "cell_type": "code",
   "execution_count": null,
   "metadata": {},
   "outputs": [],
   "source": [
    "import math\n",
    "math.cos"
   ]
  },
  {
   "cell_type": "code",
   "execution_count": null,
   "metadata": {},
   "outputs": [],
   "source": [
    "import matplotlib as mpl # Bibliothèque permettant de tracer toute sorte de graphes\n",
    "import numpy as np # Bibliothèque contenant de nombreuses fonctions de calcul numérique"
   ]
  },
  {
   "cell_type": "code",
   "execution_count": null,
   "metadata": {},
   "outputs": [],
   "source": [
    "np.cos(2)\n",
    "math.cos(2)"
   ]
  },
  {
   "cell_type": "code",
   "execution_count": null,
   "metadata": {},
   "outputs": [],
   "source": [
    "from math import pi\n",
    "pi"
   ]
  },
  {
   "cell_type": "code",
   "execution_count": null,
   "metadata": {},
   "outputs": [],
   "source": [
    "np.cos(3*pi/180)"
   ]
  },
  {
   "cell_type": "code",
   "execution_count": null,
   "metadata": {},
   "outputs": [],
   "source": [
    "from math import *"
   ]
  },
  {
   "cell_type": "code",
   "execution_count": 9,
   "metadata": {},
   "outputs": [],
   "source": [
    "#En cas de doute sur une fonction, la documentation est accessible à l'aide de la commande '?'\n",
    "np.cos?"
   ]
  },
  {
   "cell_type": "markdown",
   "metadata": {},
   "source": [
    "En résumé, plusieurs façons pour importer des modules :\n",
    "* Soit brutalement en important tout le package (à éviter) : from bidule import *\n",
    "* Soit en important quelques fonctions en particulier (pénible) : from bidule import func1, func2, ...\n",
    "* Soit en renommant le package, et en l'utilisant quand nécessaire : import bidule as truc"
   ]
  }
 ],
 "metadata": {
  "kernelspec": {
   "display_name": "Python 3",
   "language": "python",
   "name": "python3"
  },
  "language_info": {
   "codemirror_mode": {
    "name": "ipython",
    "version": 3
   },
   "file_extension": ".py",
   "mimetype": "text/x-python",
   "name": "python",
   "nbconvert_exporter": "python",
   "pygments_lexer": "ipython3",
   "version": "3.8.8"
  }
 },
 "nbformat": 4,
 "nbformat_minor": 2
}
