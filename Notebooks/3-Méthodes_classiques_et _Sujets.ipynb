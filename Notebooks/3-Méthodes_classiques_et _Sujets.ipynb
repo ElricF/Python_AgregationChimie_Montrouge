{
 "cells": [
  {
   "cell_type": "code",
   "execution_count": 4,
   "metadata": {},
   "outputs": [],
   "source": [
    "import numpy as np\n",
    "import matplotlib.pyplot as plt\n",
    "from scipy.optimize import curve_fit"
   ]
  },
  {
   "cell_type": "markdown",
   "metadata": {},
   "source": [
    "# Méthodes classiques au programme"
   ]
  },
  {
   "cell_type": "markdown",
   "metadata": {},
   "source": [
    "## Calcul de la dérivée\n",
    "\n",
    "Très classique, il s'agit simplement d'implémenter la définition de la dérivé à une liste de point (représentant les valeurs d'une fonction pour des abscisses successives).\n",
    "\n",
    "Si on a une liste de données $y$ représentant les valeurs d'une fonction $f$ pour une liste d'abscisse $x$, on approxime $f'(x_i)$ par $ \\dfrac{y_{i+1}-y_{i}}{x_{i+1}-x_{i}}$ ou par $\\dfrac{y_{i}-y_{i-1}}{x_{i}-x_{i-1}}$ (dérivée à droite et à gauche. On peut obtenir une meilleur approximation en prenant la moyenne des deux)\n",
    " \n",
    "\n",
    "### Exercice :\n",
    "* implémentez une fonction calculant la dérivée numérique des listes de points suivants puis tracez les dérivées."
   ]
  },
  {
   "cell_type": "code",
   "execution_count": 32,
   "metadata": {},
   "outputs": [],
   "source": [
    "x1=np.linspace(-5,5,100)\n",
    "y1=array([ 6.50000000e+01,  6.22023263e+01,  5.94658708e+01,  5.67906336e+01,\n",
    "        5.41766146e+01,  5.16238139e+01,  4.91322314e+01,  4.67018672e+01,\n",
    "        4.43327212e+01,  4.20247934e+01,  3.97780839e+01,  3.75925926e+01,\n",
    "        3.54683196e+01,  3.34052648e+01,  3.14034282e+01,  2.94628099e+01,\n",
    "        2.75834099e+01,  2.57652280e+01,  2.40082645e+01,  2.23125191e+01,\n",
    "        2.06779920e+01,  1.91046832e+01,  1.75925926e+01,  1.61417202e+01,\n",
    "        1.47520661e+01,  1.34236302e+01,  1.21564126e+01,  1.09504132e+01,\n",
    "        9.80563208e+00,  8.72206918e+00,  7.69972452e+00,  6.73859810e+00,\n",
    "        5.83868993e+00,  5.00000000e+00,  4.22252831e+00,  3.50627487e+00,\n",
    "        2.85123967e+00,  2.25742271e+00,  1.72482400e+00,  1.25344353e+00,\n",
    "        8.43281298e-01,  4.94337313e-01,  2.06611570e-01, -1.98959290e-02,\n",
    "       -1.85185185e-01, -2.89256198e-01, -3.32108968e-01, -3.13743496e-01,\n",
    "       -2.34159780e-01, -9.33578206e-02,  1.08662381e-01,  3.71900826e-01,\n",
    "        6.96357515e-01,  1.08203245e+00,  1.52892562e+00,  2.03703704e+00,\n",
    "        2.60636670e+00,  3.23691460e+00,  3.92868075e+00,  4.68166514e+00,\n",
    "        5.49586777e+00,  6.37128864e+00,  7.30792776e+00,  8.30578512e+00,\n",
    "        9.36486073e+00,  1.04851546e+01,  1.16666667e+01,  1.29093970e+01,\n",
    "        1.42133456e+01,  1.55785124e+01,  1.70048975e+01,  1.84925008e+01,\n",
    "        2.00413223e+01,  2.16513621e+01,  2.33226201e+01,  2.50550964e+01,\n",
    "        2.68487909e+01,  2.87037037e+01,  3.06198347e+01,  3.25971840e+01,\n",
    "        3.46357515e+01,  3.67355372e+01,  3.88965412e+01,  4.11187634e+01,\n",
    "        4.34022039e+01,  4.57468626e+01,  4.81527395e+01,  5.06198347e+01,\n",
    "        5.31481481e+01,  5.57376798e+01,  5.83884298e+01,  6.11003979e+01,\n",
    "        6.38735843e+01,  6.67079890e+01,  6.96036119e+01,  7.25604530e+01,\n",
    "        7.55785124e+01,  7.86577900e+01,  8.17982859e+01,  8.50000000e+01]) #3*x1**2+2*x1"
   ]
  },
  {
   "cell_type": "code",
   "execution_count": 37,
   "metadata": {},
   "outputs": [],
   "source": [
    "x2=np.linspace(0,3*np.pi,100)\n",
    "y2 = array([1.        , 0.99096435, 0.96418397, 0.92062677, 0.86186702,\n",
    "       0.79002845, 0.70770751, 0.61787947, 0.52379096, 0.42884258,\n",
    "       0.33646602, 0.25      , 0.17256963, 0.10697345, 0.05558228,\n",
    "       0.02025351, 0.00226404, 0.00226404, 0.02025351, 0.05558228,\n",
    "       0.10697345, 0.17256963, 0.25      , 0.33646602, 0.42884258,\n",
    "       0.52379096, 0.61787947, 0.70770751, 0.79002845, 0.86186702,\n",
    "       0.92062677, 0.96418397, 0.99096435, 1.        , 0.99096435,\n",
    "       0.96418397, 0.92062677, 0.86186702, 0.79002845, 0.70770751,\n",
    "       0.61787947, 0.52379096, 0.42884258, 0.33646602, 0.25      ,\n",
    "       0.17256963, 0.10697345, 0.05558228, 0.02025351, 0.00226404,\n",
    "       0.00226404, 0.02025351, 0.05558228, 0.10697345, 0.17256963,\n",
    "       0.25      , 0.33646602, 0.42884258, 0.52379096, 0.61787947,\n",
    "       0.70770751, 0.79002845, 0.86186702, 0.92062677, 0.96418397,\n",
    "       0.99096435, 1.        , 0.99096435, 0.96418397, 0.92062677,\n",
    "       0.86186702, 0.79002845, 0.70770751, 0.61787947, 0.52379096,\n",
    "       0.42884258, 0.33646602, 0.25      , 0.17256963, 0.10697345,\n",
    "       0.05558228, 0.02025351, 0.00226404, 0.00226404, 0.02025351,\n",
    "       0.05558228, 0.10697345, 0.17256963, 0.25      , 0.33646602,\n",
    "       0.42884258, 0.52379096, 0.61787947, 0.70770751, 0.79002845,\n",
    "       0.86186702, 0.92062677, 0.96418397, 0.99096435, 1.        ])#np.cos(x)**2"
   ]
  },
  {
   "cell_type": "markdown",
   "metadata": {},
   "source": [
    "Il existe la fonction `diff` du module numpy qui le fait automatiquement"
   ]
  },
  {
   "cell_type": "code",
   "execution_count": null,
   "metadata": {},
   "outputs": [],
   "source": []
  },
  {
   "cell_type": "markdown",
   "metadata": {},
   "source": [
    "# Méthode des rectangles\n",
    "\n",
    "Grand classique également, permet d'approximer l'intégrale d'une fonction en donnée. Il s'agit d'approcher l'aire sous la courbe en pavant la surface sous la courbe avec des rectangles. Plus on les choisira fin, plus l'intégrale calculées sera précise.\n",
    "\n",
    "![Méthodes des rectangles](../Methode_des_rectangles.png \"Title\")\n",
    "Source : Wikipedia\n",
    "\n",
    "On préférera les fonctions plus précises déjà implémentée de `scipy.integrate` comme `quad` quand on aura la choix"
   ]
  },
  {
   "cell_type": "markdown",
   "metadata": {},
   "source": [
    "## Exercice\n",
    "\n",
    "Calculez l'intégrale des fonctions suivantes en implémentant la méthodes des rectangles"
   ]
  },
  {
   "cell_type": "code",
   "execution_count": 2,
   "metadata": {},
   "outputs": [],
   "source": [
    "#Sur [-100,100]\n",
    "def sinc(x):\n",
    "    return np.sinc(x/np.pi)\n",
    "\n",
    "#Sur[-10,10]\n",
    "def gaussienne(x):\n",
    "    return np.exp(-x**2)\n",
    "\n",
    "#Sur [-100,100]\n",
    "def lorentizenne(x):\n",
    "    return 1/(1+x**2)"
   ]
  },
  {
   "cell_type": "code",
   "execution_count": 5,
   "metadata": {},
   "outputs": [
    {
     "name": "stdout",
     "output_type": "stream",
     "text": [
      "integrale = 3.124465407062365\n"
     ]
    },
    {
     "data": {
      "image/png": "[encoded data removed]",
      "text/plain": [
       "<Figure size 432x288 with 1 Axes>"
      ]
     },
     "metadata": {
      "needs_background": "light"
     },
     "output_type": "display_data"
    }
   ],
   "source": [
    "# integration numerique par la methode des rectangles avec alpha = a\n",
    "\n",
    "import numpy as np\n",
    "import matplotlib.pyplot as plt\n",
    "\n",
    "plt.show()"
   ]
  },
  {
   "cell_type": "markdown",
   "metadata": {},
   "source": [
    "## Méthode d'Euler\n",
    "\n",
    "Archi classique,le seul argument viable pour l'enseigner c'est qu'on le comprend très facilement.\n",
    "\n",
    "Il s'agit d'un algorithme de résolution d'équation différentielle, il est très simple à implémenter.\n",
    "\n",
    "La méthode est détaillé dans le sujet suivant !"
   ]
  },
  {
   "cell_type": "markdown",
   "metadata": {},
   "source": [
    "# Sujets (dans l'ordre d'importance)"
   ]
  },
  {
   "cell_type": "markdown",
   "metadata": {},
   "source": [
    "Notez que les questions qui ont recours à Python sont à la fois simplissimes et totalement indépendantes du reste du sujet. C'est donc des points presques gratuits. **N'oubliez pas ça le jour de l'épreuve !! (les points gratuits, on les prend !)**"
   ]
  },
  {
   "cell_type": "markdown",
   "metadata": {},
   "source": [
    "**Question 29 à 35**\n",
    "![2020_b](../image/2020_b_Python.png)"
   ]
  },
  {
   "cell_type": "code",
   "execution_count": null,
   "metadata": {},
   "outputs": [],
   "source": []
  },
  {
   "cell_type": "markdown",
   "metadata": {},
   "source": [
    "**Question 25**\n",
    "![2020_b](../image/2021_b_Python.png)"
   ]
  },
  {
   "cell_type": "code",
   "execution_count": null,
   "metadata": {},
   "outputs": [],
   "source": []
  },
  {
   "cell_type": "markdown",
   "metadata": {},
   "source": [
    "**Question 24 et de 59 à 62**\n",
    "\n",
    "![2020_b](../image/2023_b_Python.png)"
   ]
  },
  {
   "cell_type": "code",
   "execution_count": null,
   "metadata": {},
   "outputs": [],
   "source": []
  },
  {
   "cell_type": "markdown",
   "metadata": {},
   "source": [
    "# Dernier point : Résolution des EDP : Méthode des différences finies\n",
    "\n",
    "Il s'agit probablement du point le plus difficile du programme. Par chance, ce point est très restreint :\n",
    "\n",
    "Mettre en œuvre une méthode des\n",
    "différences finies explicite pour résoudre l’**équation de diffusion** à **une dimension** en **régime variable**.\n",
    "\n",
    "Pour rappel, voici l'équation de diffusion 1d : $$\\rho C_p S \\dfrac{\\partial T}{\\partial t} = \\lambda S \\dfrac{\\partial^2 T }{\\partial x^2} $$\n",
    "\n",
    "- Si le sujet vous l'indique, on peut se placer en RSF (c'est à dire décomposer la solution sur la base des fonctions sinus et cosinus ). $T$ -> $\\Re(\\underline{T})$ et donc $\\dfrac{\\partial T}{ \\partial t}$ devient $j \\omega \\underline{T}$. On retrouve une equation différentielle à une variable $x$\n",
    "\n",
    "- Sinon, il faut mettre en place la méthode des différences finies : \n",
    "\n",
    "Comme tout à l'heure avec la méthode d'Euler, on ne va pas s'emcombrer à chercher une solution optimale, il existe des librairies python qui feront bien mieux que nous ! L'objectif ici, c'est la simplicité et la clareté !\n",
    "\n",
    "Pour résoudre une telle équation, il nous faut : \n",
    "- un jeu de condition à l'origine $T(x,t=0)$ (equation différentielle d'ordre 1 en temps)\n",
    "- deux jeux de conditions au limites $T(x=0, t), T(x=L,t)$ (equation différentielle d'ordre 2 en espace)\n",
    "\n",
    "On va représenter $T(x,t)$ par une matrice $T_{i,j}$, chaque ligne $i$ représentera $T(x,t=cte)$ et chaque colonne $j$ représentera $T(x=cte,t)$\n",
    "\n",
    "Le choix de la dimension de la matrice T est un choix de maillage (plus la matrice est grande, plus on sera sensible précis sur les détails de l'évolution de T, mais plus le calcul sera long)\n",
    "\n",
    "Voici ce qu'on sait pour commencer :\n",
    "\n",
    "$$\\begin{bmatrix} T(x=0,t=0) & T(x=\\Delta x,t=0) & ... & T(x=L,t=0) \\\\ T(x=0,t=\\Delta t) & ? & ??? & T(x=L,t=\\Delta t) \\\\ \\vdots & ? & ??? & \\vdots \\\\ T(x=0,t=T) & ? & ??? & T(x=L,t=T)  \\end{bmatrix}$$\n",
    "\n",
    "Résoudre l'équation au dérivée partielle, revient ici 'simplement' à remplir les $?$ de la matrice précédente.\n",
    "\n",
    "On va s'inspirer de ce qu'on a déjà vu avec les calculs de dérivées numériques et la méthode d'Euler.\n",
    "\n",
    "$$ \\dfrac{\\partial T}{\\partial t}(x_i,t_j) \\approx \\dfrac{T(x_{i},t_{j+1})-T(x_i,t_j)}{t_{j+1}-t_{j}} = \\dfrac{T(x_{i},t_{j+1})-T(x_i,t_j)}{\\Delta t} $$\n",
    "$$ \\dfrac{\\partial^2 T}{\\partial x^2}(x_i,t_j) \\approx \\dfrac{T(x_{i+1},t_j)-2T(x_i,t_j)+T(x_{i-1},t_j)}{\\Delta x ^2} $$\n",
    "\n",
    "Il suffit de réinjecter ça dans l'équation de la diffusion pour exprimer les $T(x_i,t_{j+1})$ en fonction des $T(x_i,t_j)$:\n",
    "\n",
    "$$T(x_i,t_{j+1}) = T(x_i,t_{j})+\\kappa\\frac{\\Delta t}{\\Delta x ^2}\\big(T(x_{i+1},t_j)-2T(x_i,t_j)+T(x_{i-1},t_j)\\big) $$\n"
   ]
  },
  {
   "cell_type": "markdown",
   "metadata": {},
   "source": [
    "## Exercice\n",
    "Mettez en place la méthode des différence finie pour calculer l'évolution des températures dans un barreau coincé entre deux thermostats l'un chaud à 50°C l'autre froid à 0°C. Le barreau étant initialement à 20°C."
   ]
  },
  {
   "cell_type": "code",
   "execution_count": null,
   "metadata": {},
   "outputs": [],
   "source": []
  },
  {
   "cell_type": "markdown",
   "metadata": {},
   "source": [
    "# Sujet bonus"
   ]
  },
  {
   "cell_type": "markdown",
   "metadata": {},
   "source": [
    "**Question 37 à 39**\n",
    "![2020_b](../image/2022_b_Python.png)"
   ]
  },
  {
   "cell_type": "code",
   "execution_count": null,
   "metadata": {},
   "outputs": [],
   "source": []
  },
  {
   "cell_type": "markdown",
   "metadata": {},
   "source": [
    "**Question 41 à 43**\n",
    "\n",
    "Attention ce sujet est vraiment nul\n",
    "\n",
    "![2020_b](../image/2019_b_Python-1.png)"
   ]
  },
  {
   "cell_type": "code",
   "execution_count": null,
   "metadata": {},
   "outputs": [],
   "source": []
  }
 ],
 "metadata": {
  "kernelspec": {
   "display_name": "Python 3",
   "language": "python",
   "name": "python3"
  },
  "language_info": {
   "codemirror_mode": {
    "name": "ipython",
    "version": 3
   },
   "file_extension": ".py",
   "mimetype": "text/x-python",
   "name": "python",
   "nbconvert_exporter": "python",
   "pygments_lexer": "ipython3",
   "version": "3.8.8"
  }
 },
 "nbformat": 4,
 "nbformat_minor": 4
}
